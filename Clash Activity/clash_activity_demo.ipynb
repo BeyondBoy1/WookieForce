{
 "metadata": {
  "language_info": {
   "codemirror_mode": {
    "name": "ipython",
    "version": 3
   },
   "file_extension": ".py",
   "mimetype": "text/x-python",
   "name": "python",
   "nbconvert_exporter": "python",
   "pygments_lexer": "ipython3",
   "version": "3.7.10"
  },
  "orig_nbformat": 2,
  "kernelspec": {
   "name": "python3710jvsc74a57bd0361fd69f2f8dc49184db1980cd15f5ed8d74153e7acf52622b1a7fcda2fa9a08",
   "display_name": "Python 3.7.10 64-bit ('myenv': conda)"
  }
 },
 "nbformat": 4,
 "nbformat_minor": 2,
 "cells": [
  {
   "cell_type": "code",
   "execution_count": 128,
   "metadata": {},
   "outputs": [
    {
     "output_type": "execute_result",
     "data": {
      "text/plain": [
       "['#PUCCG908Y',\n",
       " '#280QYU8Y',\n",
       " '#J9RGCLGL',\n",
       " '#9PC2U8G98',\n",
       " '#20R9QGCJC',\n",
       " '#Y9P0RUU0',\n",
       " '#RCV08YPR',\n",
       " '#P29R0UYJP',\n",
       " '#82C9UC0U9',\n",
       " '#YYLC2CJ20',\n",
       " '#2CJPGVLQ2',\n",
       " '#8RR28YU2',\n",
       " '#990LG8Q9R',\n",
       " '#Y8LP9VCV',\n",
       " '#2G2YCU0P9',\n",
       " '#RYC8LYG2',\n",
       " '#PGY0Q9Q2L',\n",
       " '#G099YGUG',\n",
       " '#QGCLV2J0',\n",
       " '#PGPJV9VCJ',\n",
       " '#UGYUR2V9',\n",
       " '#P8UUCPR8U',\n",
       " '#LJ92JJ8Q',\n",
       " '#LVY9R20CR',\n",
       " '#2VUUV2VJ2',\n",
       " '#YPPUPJU9U',\n",
       " '#Y9V8LUCLQ',\n",
       " '#L0JV0LQR0',\n",
       " '#9PVQ9RJJG',\n",
       " '#L09J8JPY0',\n",
       " '#2LQ9Y8CUR',\n",
       " '#292LQVGP8',\n",
       " '#Q9GPQ08Y8',\n",
       " '#LV9CQQUR9',\n",
       " '#LC2Q8UPGP',\n",
       " '#PJRGJUY08',\n",
       " '#Q2V2QPQ0P',\n",
       " '#Q0L0VY0PQ',\n",
       " '#9GRLJC9UJ',\n",
       " '#YV9P9GC0P',\n",
       " '#LPU228892',\n",
       " '#QPCGUVVQC',\n",
       " '#LQ2P9VU88',\n",
       " '#2CYVR82QQ']"
      ]
     },
     "metadata": {},
     "execution_count": 128
    }
   ],
   "source": [
    "import pandas as pd\n",
    "import numpy as np\n",
    "sf_stats = pd.read_csv('Sheer_Force_war_attacks.csv')\n",
    "roster = pd.read_csv('fullroster.csv')\n",
    "#roster.head()\n",
    "#roster.columns = ['tag', 'name', 'thLevel', 'home_clan_name']\n",
    "roster.head()\n",
    "#sf_stats.head()\n",
    "roster\n",
    "roster_tag = roster[\"PlayerTag\"].tolist()\n",
    "roster_tag"
   ]
  },
  {
   "cell_type": "code",
   "execution_count": 25,
   "metadata": {},
   "outputs": [],
   "source": [
    "sf_stats_roster_tags = pd.concat([sf_stats, roster], axis = 1)\n",
    "#sf_stats_roster.head()\n",
    "#merge_data = sf_stats_roster[[\"tag\", \"name\"]]\n",
    "#should we keep the data frames separate?\n",
    "#compare tag to player tag?\n",
    "sf_stats_roster_tags[\"match\"] = sf_stats_roster_tags.drop(\"tag\", 1).isin(sf_stats_roster_tags[\"PlayerTag\"]).any(1)\n",
    "#sf_stats_roster_tags\n",
    "#sf_stats_roster['tagmatch?'] = np.where(sf_stats_roster['tag'] == sf_stats_roster['tag'], True, False)"
   ]
  },
  {
   "cell_type": "code",
   "execution_count": 26,
   "metadata": {},
   "outputs": [],
   "source": [
    "#get duplicates\n",
    "duplicate_tag = sf_stats_roster_tags.pivot_table(index = [\"tag\", \"name\"], aggfunc = 'size')\n",
    "duplicates = duplicate_tag.to_frame()\n",
    "#duplicates\n",
    "duplicates.to_csv(r'C:\\Users\\tiz081\\Documents\\Clash\\Clash Activity\\duplicates.csv', index = True, header = True)"
   ]
  },
  {
   "cell_type": "code",
   "execution_count": 132,
   "metadata": {},
   "outputs": [],
   "source": [
    "#get attacks and check with roster to see who hasn't attacked\n",
    "attacks_df = pd.read_csv('clan_war_stats.csv')\n",
    "attacks = attacks_df[['Name', 'Tag', 'Total Attacks']]\n",
    "# attacks = pd.read_csv('duplicates.csv', names = [\"PlayerTag\", \"PlayerName\", \"Attacks\"])\n",
    "# attacks.sort_values(by = 'Attacks', ascending = False)\n",
    "attacks = attacks.astype({\"Total Attacks\": 'float'})\n",
    "attacks\n",
    "attacks[\"Low\"] = attacks[\"Total Attacks\"].le(8)\n",
    "attacks[\"Safe\"] = attacks[\"Total Attacks\"].ge(9)\n",
    "attacks\n",
    "\n",
    "low_attacks = attacks[attacks.Low == True]\n",
    "safe_attacks = attacks[attacks.Safe == True]\n",
    "# low_attackers = attacks[attacks.Low_Attacks == \"True\"]\n",
    "low_attacks_tag = low_attacks[\"Tag\"].tolist()\n",
    "low_attacks_tag\n",
    "safe_attacks_tag = safe_attacks[\"Tag\"].tolist()"
   ]
  },
  {
   "cell_type": "code",
   "execution_count": 144,
   "metadata": {},
   "outputs": [
    {
     "output_type": "execute_result",
     "data": {
      "text/plain": [
       "['Logan',\n",
       " 'Casper 1',\n",
       " 'ɑԵԵɑϲƘҽɾ ⓐⓕⓡⓐⓣⓗ',\n",
       " 'luca',\n",
       " 'ElusiveStream',\n",
       " 'Baby Dragon']"
      ]
     },
     "metadata": {},
     "execution_count": 144
    }
   ],
   "source": [
    "warn_list_tag = []\n",
    "warn_list_name = []\n",
    "\n",
    "safe_list_tag = []\n",
    "safe_list_name = []\n",
    "\n",
    "no_attacks_or_new_tag = []\n",
    "no_attacks_or_new_name = []\n",
    "\n",
    "roster_tag = roster[\"PlayerTag\"].tolist()\n",
    "roster_tag\n",
    "\n",
    "for i in range(len(roster)):\n",
    "    if roster_tag[i] in low_attacks_tag:\n",
    "        #print(\"uhoh\")\n",
    "        warn_list_tag.append(roster[\"PlayerTag\"][i])\n",
    "        warn_list_name.append(roster[\"PlayerName\"][i])\n",
    "    elif roster_tag[i] in safe_attacks_tag:\n",
    "        #print(\"phew\")\n",
    "        safe_list_tag.append(roster[\"PlayerTag\"][i])\n",
    "        safe_list_name.append(roster[\"PlayerName\"][i])\n",
    "    else:\n",
    "        #print(\"???\")\n",
    "        no_attacks_or_new_tag.append(roster[\"PlayerTag\"][i])\n",
    "        no_attacks_or_new_name.append(roster[\"PlayerName\"][i])\n"
   ]
  },
  {
   "cell_type": "code",
   "execution_count": 146,
   "metadata": {},
   "outputs": [],
   "source": [
    "#convert back into dataframe and export as csv\n",
    "warn_tag = pd.DataFrame(warn_list_tag, columns = [\"Warn Tag\"])\n",
    "warn_name = pd.DataFrame(warn_list_name, columns = [\"Warn Name\"])\n",
    "none_or_new_tag = pd.DataFrame(no_attacks_or_new_tag, columns = [\"None or New Tag\"])\n",
    "none_or_new_name = pd.DataFrame(no_attacks_or_new_name, columns = [\"None or New Name\"])\n",
    "safe_tag = pd.DataFrame(safe_list_tag, columns = [\"Safe Tag\"])\n",
    "safe_name = pd.DataFrame(safe_list_name, columns = [\"Safe Name\"])\n",
    "\n",
    "\n",
    "sheer_force = pd.concat([warn_tag, warn_name, none_or_new_tag, none_or_new_name, safe_tag, safe_name], axis = 1)\n",
    "sheer_force.to_csv(r'C:\\Users\\tiz081\\Documents\\Clash\\Clash Activity\\sheer_force.csv', index = False)\n",
    "\n"
   ]
  },
  {
   "cell_type": "code",
   "execution_count": 110,
   "metadata": {},
   "outputs": [
    {
     "output_type": "error",
     "ename": "TypeError",
     "evalue": "'Series' objects are mutable, thus they cannot be hashed",
     "traceback": [
      "\u001b[1;31m---------------------------------------------------------------------------\u001b[0m",
      "\u001b[1;31mTypeError\u001b[0m                                 Traceback (most recent call last)",
      "\u001b[1;32m<ipython-input-110-2345b591fe43>\u001b[0m in \u001b[0;36m<module>\u001b[1;34m\u001b[0m\n\u001b[1;32m----> 1\u001b[1;33m \u001b[1;32mif\u001b[0m \u001b[0mroster\u001b[0m\u001b[1;33m[\u001b[0m\u001b[1;34m\"PlayerTag\"\u001b[0m\u001b[1;33m]\u001b[0m \u001b[1;32min\u001b[0m \u001b[0mlow_attacks\u001b[0m\u001b[1;33m[\u001b[0m\u001b[1;34m\"Tag\"\u001b[0m\u001b[1;33m]\u001b[0m\u001b[1;33m:\u001b[0m\u001b[1;33m\u001b[0m\u001b[1;33m\u001b[0m\u001b[0m\n\u001b[0m\u001b[0;32m      2\u001b[0m         \u001b[0mprint\u001b[0m\u001b[1;33m(\u001b[0m\u001b[1;34m\"oof\"\u001b[0m\u001b[1;33m)\u001b[0m\u001b[1;33m\u001b[0m\u001b[1;33m\u001b[0m\u001b[0m\n",
      "\u001b[1;32m~\\Miniconda3\\envs\\myenv\\lib\\site-packages\\pandas\\core\\generic.py\u001b[0m in \u001b[0;36m__contains__\u001b[1;34m(self, key)\u001b[0m\n\u001b[0;32m   1837\u001b[0m     \u001b[1;32mdef\u001b[0m \u001b[0m__contains__\u001b[0m\u001b[1;33m(\u001b[0m\u001b[0mself\u001b[0m\u001b[1;33m,\u001b[0m \u001b[0mkey\u001b[0m\u001b[1;33m)\u001b[0m \u001b[1;33m->\u001b[0m \u001b[0mbool_t\u001b[0m\u001b[1;33m:\u001b[0m\u001b[1;33m\u001b[0m\u001b[1;33m\u001b[0m\u001b[0m\n\u001b[0;32m   1838\u001b[0m         \u001b[1;34m\"\"\"True if the key is in the info axis\"\"\"\u001b[0m\u001b[1;33m\u001b[0m\u001b[1;33m\u001b[0m\u001b[0m\n\u001b[1;32m-> 1839\u001b[1;33m         \u001b[1;32mreturn\u001b[0m \u001b[0mkey\u001b[0m \u001b[1;32min\u001b[0m \u001b[0mself\u001b[0m\u001b[1;33m.\u001b[0m\u001b[0m_info_axis\u001b[0m\u001b[1;33m\u001b[0m\u001b[1;33m\u001b[0m\u001b[0m\n\u001b[0m\u001b[0;32m   1840\u001b[0m \u001b[1;33m\u001b[0m\u001b[0m\n\u001b[0;32m   1841\u001b[0m     \u001b[1;33m@\u001b[0m\u001b[0mproperty\u001b[0m\u001b[1;33m\u001b[0m\u001b[1;33m\u001b[0m\u001b[0m\n",
      "\u001b[1;32m~\\Miniconda3\\envs\\myenv\\lib\\site-packages\\pandas\\core\\indexes\\numeric.py\u001b[0m in \u001b[0;36m__contains__\u001b[1;34m(self, key)\u001b[0m\n\u001b[0;32m    262\u001b[0m         \u001b[0mCheck\u001b[0m \u001b[1;32mif\u001b[0m \u001b[0mkey\u001b[0m \u001b[1;32mis\u001b[0m \u001b[0ma\u001b[0m \u001b[0mfloat\u001b[0m \u001b[1;32mand\u001b[0m \u001b[0mhas\u001b[0m \u001b[0ma\u001b[0m \u001b[0mdecimal\u001b[0m\u001b[1;33m.\u001b[0m \u001b[0mIf\u001b[0m \u001b[0mit\u001b[0m \u001b[0mhas\u001b[0m\u001b[1;33m,\u001b[0m \u001b[1;32mreturn\u001b[0m \u001b[1;32mFalse\u001b[0m\u001b[1;33m.\u001b[0m\u001b[1;33m\u001b[0m\u001b[1;33m\u001b[0m\u001b[0m\n\u001b[0;32m    263\u001b[0m         \"\"\"\n\u001b[1;32m--> 264\u001b[1;33m         \u001b[0mhash\u001b[0m\u001b[1;33m(\u001b[0m\u001b[0mkey\u001b[0m\u001b[1;33m)\u001b[0m\u001b[1;33m\u001b[0m\u001b[1;33m\u001b[0m\u001b[0m\n\u001b[0m\u001b[0;32m    265\u001b[0m         \u001b[1;32mtry\u001b[0m\u001b[1;33m:\u001b[0m\u001b[1;33m\u001b[0m\u001b[1;33m\u001b[0m\u001b[0m\n\u001b[0;32m    266\u001b[0m             \u001b[1;32mif\u001b[0m \u001b[0mis_float\u001b[0m\u001b[1;33m(\u001b[0m\u001b[0mkey\u001b[0m\u001b[1;33m)\u001b[0m \u001b[1;32mand\u001b[0m \u001b[0mint\u001b[0m\u001b[1;33m(\u001b[0m\u001b[0mkey\u001b[0m\u001b[1;33m)\u001b[0m \u001b[1;33m!=\u001b[0m \u001b[0mkey\u001b[0m\u001b[1;33m:\u001b[0m\u001b[1;33m\u001b[0m\u001b[1;33m\u001b[0m\u001b[0m\n",
      "\u001b[1;32m~\\Miniconda3\\envs\\myenv\\lib\\site-packages\\pandas\\core\\generic.py\u001b[0m in \u001b[0;36m__hash__\u001b[1;34m(self)\u001b[0m\n\u001b[0;32m   1784\u001b[0m     \u001b[1;32mdef\u001b[0m \u001b[0m__hash__\u001b[0m\u001b[1;33m(\u001b[0m\u001b[0mself\u001b[0m\u001b[1;33m)\u001b[0m \u001b[1;33m->\u001b[0m \u001b[0mint\u001b[0m\u001b[1;33m:\u001b[0m\u001b[1;33m\u001b[0m\u001b[1;33m\u001b[0m\u001b[0m\n\u001b[0;32m   1785\u001b[0m         raise TypeError(\n\u001b[1;32m-> 1786\u001b[1;33m             \u001b[1;34mf\"{repr(type(self).__name__)} objects are mutable, \"\u001b[0m\u001b[1;33m\u001b[0m\u001b[1;33m\u001b[0m\u001b[0m\n\u001b[0m\u001b[0;32m   1787\u001b[0m             \u001b[1;34mf\"thus they cannot be hashed\"\u001b[0m\u001b[1;33m\u001b[0m\u001b[1;33m\u001b[0m\u001b[0m\n\u001b[0;32m   1788\u001b[0m         )\n",
      "\u001b[1;31mTypeError\u001b[0m: 'Series' objects are mutable, thus they cannot be hashed"
     ]
    }
   ],
   "source": []
  }
 ]
}