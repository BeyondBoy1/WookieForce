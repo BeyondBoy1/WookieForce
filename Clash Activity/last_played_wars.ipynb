{
 "cells": [
  {
   "cell_type": "code",
   "execution_count": 1,
   "metadata": {},
   "outputs": [],
   "source": [
    "import pandas as pd \n",
    "import numpy as np \n",
    "import datetime as datetime"
   ]
  },
  {
   "cell_type": "code",
   "execution_count": 14,
   "metadata": {},
   "outputs": [
    {
     "data": {
      "text/html": [
       "<div>\n",
       "<style scoped>\n",
       "    .dataframe tbody tr th:only-of-type {\n",
       "        vertical-align: middle;\n",
       "    }\n",
       "\n",
       "    .dataframe tbody tr th {\n",
       "        vertical-align: top;\n",
       "    }\n",
       "\n",
       "    .dataframe thead th {\n",
       "        text-align: right;\n",
       "    }\n",
       "</style>\n",
       "<table border=\"1\" class=\"dataframe\">\n",
       "  <thead>\n",
       "    <tr style=\"text-align: right;\">\n",
       "      <th></th>\n",
       "      <th>Name</th>\n",
       "      <th>Tag</th>\n",
       "      <th>Last War</th>\n",
       "      <th>Town Hall</th>\n",
       "      <th>Clan</th>\n",
       "      <th>Total Wars</th>\n",
       "    </tr>\n",
       "  </thead>\n",
       "  <tbody>\n",
       "    <tr>\n",
       "      <th>0</th>\n",
       "      <td>寄付者Karuko</td>\n",
       "      <td>#LV9RCGYCY</td>\n",
       "      <td>8/12/2021</td>\n",
       "      <td>8.0</td>\n",
       "      <td>SN JAIN</td>\n",
       "      <td>1</td>\n",
       "    </tr>\n",
       "    <tr>\n",
       "      <th>1</th>\n",
       "      <td>Globslashes</td>\n",
       "      <td>#QPGJUL0PC</td>\n",
       "      <td>8/12/2021</td>\n",
       "      <td>5.0</td>\n",
       "      <td>SN JAIN</td>\n",
       "      <td>4</td>\n",
       "    </tr>\n",
       "    <tr>\n",
       "      <th>2</th>\n",
       "      <td>Kakitani</td>\n",
       "      <td>#QL0CJCP0P</td>\n",
       "      <td>8/12/2021</td>\n",
       "      <td>5.0</td>\n",
       "      <td>SN JAIN</td>\n",
       "      <td>4</td>\n",
       "    </tr>\n",
       "    <tr>\n",
       "      <th>3</th>\n",
       "      <td>Darth Rey</td>\n",
       "      <td>#Q2VPR0U0G</td>\n",
       "      <td>8/12/2021</td>\n",
       "      <td>3.0</td>\n",
       "      <td>SN JAIN</td>\n",
       "      <td>1</td>\n",
       "    </tr>\n",
       "    <tr>\n",
       "      <th>4</th>\n",
       "      <td>texanji</td>\n",
       "      <td>#QP820PV88</td>\n",
       "      <td>8/12/2021</td>\n",
       "      <td>4.0</td>\n",
       "      <td>SN JAIN</td>\n",
       "      <td>2</td>\n",
       "    </tr>\n",
       "  </tbody>\n",
       "</table>\n",
       "</div>"
      ],
      "text/plain": [
       "          Name         Tag   Last War  Town Hall     Clan  Total Wars\n",
       "0    寄付者Karuko  #LV9RCGYCY  8/12/2021        8.0  SN JAIN           1\n",
       "1  Globslashes  #QPGJUL0PC  8/12/2021        5.0  SN JAIN           4\n",
       "2     Kakitani  #QL0CJCP0P  8/12/2021        5.0  SN JAIN           4\n",
       "3    Darth Rey  #Q2VPR0U0G  8/12/2021        3.0  SN JAIN           1\n",
       "4      texanji  #QP820PV88  8/12/2021        4.0  SN JAIN           2"
      ]
     },
     "execution_count": 14,
     "metadata": {},
     "output_type": "execute_result"
    }
   ],
   "source": [
    "#read in last_played_wars csv\n",
    "last_played_wars = pd.read_csv(\"updated_last_played_wars.csv\")\n",
    "\n",
    "# last_played_wars[\"Participation\"] = last_played_wars[\"Joined Wars\"] / last_played_wars[\"Total Wars\"]\n",
    "last_played_wars = last_played_wars[[\"Name\", \"Tag\", \"Last War\", \"Town Hall\", \"Clan\", \"Total Wars\"]]\n",
    "last_played_wars.head()\n"
   ]
  },
  {
   "cell_type": "code",
   "execution_count": 12,
   "metadata": {},
   "outputs": [],
   "source": [
    "#Split Last Played Wars by clan\n",
    "#Sheer Force\n",
    "\n",
    "#Create a copy of Sheer Force only to manipulate\n",
    "sf_lpw = last_played_wars.loc[last_played_wars.Clan == \"Sheer Force\"].copy()\n",
    "#Joined Wars of clan member\n",
    "sf_lpw[\"Joined Wars\"] = sf_lpw[\"Total Wars\"]\n",
    "#get maximum number of wars this season\n",
    "sf_max = sf_lpw[\"Total Wars\"].max()\n",
    "sf_lpw[\"Total Wars\"] = sf_max\n",
    "#find participation of members\n",
    "sf_lpw[\"Participation\"] = sf_lpw[\"Joined Wars\"]/sf_max\n",
    "#get < 50% participation members and add to slackers\n",
    "sheer_force_slackers = sf_lpw.loc[sf_lpw.Participation < .5].copy()\n",
    "sheer_force_slackers.head()\n",
    "sf = sheer_force_slackers.to_csv(r\"sf.csv\", index = True, header = True)"
   ]
  },
  {
   "cell_type": "code",
   "execution_count": 13,
   "metadata": {},
   "outputs": [],
   "source": [
    "#Dark Matter\n",
    "dm_lpw = last_played_wars.loc[last_played_wars.Clan == \"Dark Matter\"].copy()\n",
    "dm_lpw[\"Joined Wars\"] = dm_lpw[\"Total Wars\"]\n",
    "dm_max = dm_lpw[\"Total Wars\"].max()\n",
    "dm_lpw[\"Total Wars\"] = dm_max\n",
    "dm_lpw[\"Participation\"] = dm_lpw[\"Joined Wars\"]/dm_max\n",
    "dark_matter_slackers = dm_lpw.loc[dm_lpw.Participation < .5].copy()\n",
    "dark_matter_slackers.head()\n",
    "dm = dark_matter_slackers.to_csv(r\"dm.csv\", index = True, header = True)"
   ]
  },
  {
   "cell_type": "code",
   "execution_count": 14,
   "metadata": {},
   "outputs": [],
   "source": [
    "#Mini Matter\n",
    "mm_lpw = last_played_wars.loc[last_played_wars.Clan == \"Mini Matter\"].copy()\n",
    "mm_lpw[\"Joined Wars\"] = mm_lpw[\"Total Wars\"]\n",
    "mm_max = mm_lpw[\"Total Wars\"].max()\n",
    "mm_lpw[\"Total Wars\"] = mm_max\n",
    "mm_lpw[\"Participation\"] = mm_lpw[\"Joined Wars\"]/mm_max\n",
    "mini_matter_slackers = mm_lpw.loc[mm_lpw.Participation < .5].copy()\n",
    "mini_matter_slackers.head()\n",
    "mm = mini_matter_slackers.to_csv(r\"mm.csv\", index = True, header = True)"
   ]
  },
  {
   "cell_type": "code",
   "execution_count": 15,
   "metadata": {},
   "outputs": [],
   "source": [
    "#Legendary Monks\n",
    "lm_lpw = last_played_wars.loc[last_played_wars.Clan == \"Legendary Monks\"].copy()\n",
    "lm_lpw[\"Joined Wars\"] = lm_lpw[\"Total Wars\"]\n",
    "lm_max = lm_lpw[\"Total Wars\"].max()\n",
    "lm_lpw[\"Total Wars\"] = lm_max\n",
    "lm_lpw[\"Participation\"] = lm_lpw[\"Joined Wars\"]/lm_max\n",
    "legendary_monks_slackers = lm_lpw.loc[lm_lpw.Participation < .5].copy()\n",
    "legendary_monks_slackers.head()\n",
    "lm = legendary_monks_slackers.to_csv(r\"lm.csv\", index = True, header = True)"
   ]
  },
  {
   "cell_type": "code",
   "execution_count": 16,
   "metadata": {},
   "outputs": [],
   "source": [
    "#Golden Clan\n",
    "kbwf_lpw = last_played_wars.loc[last_played_wars.Clan == \"Golden Clan\"].copy()\n",
    "kbwf_lpw[\"Joined Wars\"] = kbwf_lpw[\"Total Wars\"]\n",
    "kbwf_max = kbwf_lpw[\"Total Wars\"].max()\n",
    "kbwf_lpw[\"Total Wars\"] = kbwf_max\n",
    "kbwf_lpw[\"Participation\"] = kbwf_lpw[\"Joined Wars\"]/kbwf_max\n",
    "killer_black_slackers = kbwf_lpw.loc[kbwf_lpw.Participation < .5].copy()\n",
    "killer_black_slackers.head()\n",
    "kbwf = killer_black_slackers.to_csv(r\"gc.csv\", index = True, header = True)"
   ]
  },
  {
   "cell_type": "code",
   "execution_count": null,
   "metadata": {},
   "outputs": [],
   "source": []
  }
 ],
 "metadata": {
  "interpreter": {
   "hash": "361fd69f2f8dc49184db1980cd15f5ed8d74153e7acf52622b1a7fcda2fa9a08"
  },
  "kernelspec": {
   "display_name": "Python 3.7.10 64-bit ('myenv': conda)",
   "name": "python3"
  },
  "language_info": {
   "codemirror_mode": {
    "name": "ipython",
    "version": 3
   },
   "file_extension": ".py",
   "mimetype": "text/x-python",
   "name": "python",
   "nbconvert_exporter": "python",
   "pygments_lexer": "ipython3",
   "version": "3.7.10"
  },
  "orig_nbformat": 2
 },
 "nbformat": 4,
 "nbformat_minor": 2
}
