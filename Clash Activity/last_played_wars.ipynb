{
 "cells": [
  {
   "cell_type": "code",
   "execution_count": 13,
   "metadata": {},
   "outputs": [],
   "source": [
    "import pandas as pd \n",
    "import numpy as np \n",
    "import datetime as datetime"
   ]
  },
  {
   "cell_type": "code",
   "execution_count": 14,
   "metadata": {},
   "outputs": [
    {
     "name": "stderr",
     "output_type": "stream",
     "text": [
      "C:\\Users\\tiz081\\AppData\\Local\\Temp/ipykernel_16420/736306504.py:12: FutureWarning: In a future version of pandas all arguments of DataFrame.drop except for the argument 'labels' will be keyword-only\n",
      "  last_played_wars_1 = last_played_wars_1.drop('Total Wars', 1)\n"
     ]
    },
    {
     "data": {
      "text/html": [
       "<div>\n",
       "<style scoped>\n",
       "    .dataframe tbody tr th:only-of-type {\n",
       "        vertical-align: middle;\n",
       "    }\n",
       "\n",
       "    .dataframe tbody tr th {\n",
       "        vertical-align: top;\n",
       "    }\n",
       "\n",
       "    .dataframe thead th {\n",
       "        text-align: right;\n",
       "    }\n",
       "</style>\n",
       "<table border=\"1\" class=\"dataframe\">\n",
       "  <thead>\n",
       "    <tr style=\"text-align: right;\">\n",
       "      <th></th>\n",
       "      <th>Name</th>\n",
       "      <th>Tag</th>\n",
       "      <th>Clan</th>\n",
       "      <th>Last War Date</th>\n",
       "      <th>Duration</th>\n",
       "      <th>Wars</th>\n",
       "    </tr>\n",
       "  </thead>\n",
       "  <tbody>\n",
       "    <tr>\n",
       "      <th>0</th>\n",
       "      <td>Krakatoa</td>\n",
       "      <td>#Q2UQQPGPP</td>\n",
       "      <td>Mini Matter</td>\n",
       "      <td>1/6/2022</td>\n",
       "      <td>9d</td>\n",
       "      <td>5</td>\n",
       "    </tr>\n",
       "    <tr>\n",
       "      <th>5</th>\n",
       "      <td>Kakitani</td>\n",
       "      <td>#QL0CJCP0P</td>\n",
       "      <td>Mini Matter</td>\n",
       "      <td>1/6/2022</td>\n",
       "      <td>9d</td>\n",
       "      <td>6</td>\n",
       "    </tr>\n",
       "    <tr>\n",
       "      <th>9</th>\n",
       "      <td>Darth Chewi</td>\n",
       "      <td>#Q8GPYC9PR</td>\n",
       "      <td>Mini Matter</td>\n",
       "      <td>1/6/2022</td>\n",
       "      <td>9d</td>\n",
       "      <td>4</td>\n",
       "    </tr>\n",
       "    <tr>\n",
       "      <th>10</th>\n",
       "      <td>Lola</td>\n",
       "      <td>#QGGVQ9P8C</td>\n",
       "      <td>Mini Matter</td>\n",
       "      <td>1/6/2022</td>\n",
       "      <td>9d</td>\n",
       "      <td>1</td>\n",
       "    </tr>\n",
       "    <tr>\n",
       "      <th>14</th>\n",
       "      <td>Dream v2</td>\n",
       "      <td>#Q9PC8PJYJ</td>\n",
       "      <td>Mini Matter</td>\n",
       "      <td>1/6/2022</td>\n",
       "      <td>9d</td>\n",
       "      <td>2</td>\n",
       "    </tr>\n",
       "  </tbody>\n",
       "</table>\n",
       "</div>"
      ],
      "text/plain": [
       "           Name         Tag         Clan Last War Date Duration  Wars\n",
       "0      Krakatoa  #Q2UQQPGPP  Mini Matter      1/6/2022       9d     5\n",
       "5      Kakitani  #QL0CJCP0P  Mini Matter      1/6/2022       9d     6\n",
       "9   Darth Chewi  #Q8GPYC9PR  Mini Matter      1/6/2022       9d     4\n",
       "10         Lola  #QGGVQ9P8C  Mini Matter      1/6/2022       9d     1\n",
       "14     Dream v2  #Q9PC8PJYJ  Mini Matter      1/6/2022       9d     2"
      ]
     },
     "execution_count": 14,
     "metadata": {},
     "output_type": "execute_result"
    }
   ],
   "source": [
    "#read in last_played_wars csv\n",
    "last_played_wars_1 = pd.read_csv(\"last_played_wars.csv\")\n",
    "pull = 11\n",
    "#Nonregular war clans\n",
    "reg_clans = ['Dark Matter', 'Golden Clan', 'Legendary Monks', 'Mini Matter', 'Sheer Force']\n",
    "\n",
    "# # last_played_wars[\"Participation\"] = last_played_wars[\"Joined Wars\"] / last_played_wars[\"Total Wars\"]\n",
    "# last_played_wars_1 = last_played_wars_1[[\"Name\", \"Tag\", \"Last War\", \"Town Hall\", \"Clan\", \"Total Wars\"]]\n",
    "# last_played_wars_1\n",
    "last_played_wars_1 = last_played_wars_1[last_played_wars_1['Clan'].isin(reg_clans)]\n",
    "last_played_wars_1['Wars'] = last_played_wars_1['Total Wars']\n",
    "last_played_wars_1 = last_played_wars_1.drop('Total Wars', 1)\n",
    "last_played_wars_1.head()\n",
    "\n"
   ]
  },
  {
   "cell_type": "code",
   "execution_count": 15,
   "metadata": {},
   "outputs": [
    {
     "data": {
      "text/plain": [
       "<pandas.core.groupby.generic.DataFrameGroupBy object at 0x000001C5E495F070>"
      ]
     },
     "execution_count": 15,
     "metadata": {},
     "output_type": "execute_result"
    }
   ],
   "source": [
    "# total_wars = last_played_wars['Total Wars'].groupby(last_played_wars['Name'])\n",
    "# print(total_wars.mean())\n",
    "# total_wars = last_played_wars_1.groupby([\"Name\", \"Tag\"])['Total Wars'].apply(list).reset_index(name = 'Wars')\n",
    "# total_wars\n",
    "# # total_wars['All Wars'] = total_wars['Wars'].sum()\n",
    "# last_played_wars['Total Wars'] = total_wars['Wars'].sum()\n",
    "# last_played_wars\n",
    "# summ = []\n",
    "# for i in range(len(total_wars['Wars'])):\n",
    "#     summ.append(sum(total_wars['Wars'][i]))\n",
    "# total_wars['Total Wars'] = summ\n",
    "# total_wars = total_wars.drop('Wars', 1)\n",
    "# total_wars\n",
    "#last_played_wars = pd.concat([last_played_wars_1, total_wars], axis = 0, ignore_index = True)\n",
    "last_played_wars = last_played_wars_1.groupby(['Clan'])\n",
    "last_played_wars\n",
    "# last_played_wars = last_played_wars_1.groupby(['Name', 'Tag']).sum().reset_index()\n",
    "# last_played_wars "
   ]
  },
  {
   "cell_type": "code",
   "execution_count": 11,
   "metadata": {},
   "outputs": [
    {
     "data": {
      "text/html": [
       "<div>\n",
       "<style scoped>\n",
       "    .dataframe tbody tr th:only-of-type {\n",
       "        vertical-align: middle;\n",
       "    }\n",
       "\n",
       "    .dataframe tbody tr th {\n",
       "        vertical-align: top;\n",
       "    }\n",
       "\n",
       "    .dataframe thead th {\n",
       "        text-align: right;\n",
       "    }\n",
       "</style>\n",
       "<table border=\"1\" class=\"dataframe\">\n",
       "  <thead>\n",
       "    <tr style=\"text-align: right;\">\n",
       "      <th></th>\n",
       "      <th>Name</th>\n",
       "      <th>Tag</th>\n",
       "      <th>Wars</th>\n",
       "      <th>Total Wars</th>\n",
       "      <th>Joined Wars</th>\n",
       "    </tr>\n",
       "  </thead>\n",
       "  <tbody>\n",
       "    <tr>\n",
       "      <th>0</th>\n",
       "      <td>* Rav 94 *</td>\n",
       "      <td>#LPGVYUGR</td>\n",
       "      <td>4</td>\n",
       "      <td>11</td>\n",
       "      <td>0.363636</td>\n",
       "    </tr>\n",
       "    <tr>\n",
       "      <th>2</th>\n",
       "      <td>*«VARAPRAKA$H»*</td>\n",
       "      <td>#RJLP90CR</td>\n",
       "      <td>1</td>\n",
       "      <td>11</td>\n",
       "      <td>0.090909</td>\n",
       "    </tr>\n",
       "    <tr>\n",
       "      <th>3</th>\n",
       "      <td>-l B A T A l-</td>\n",
       "      <td>#PG8V8CLVJ</td>\n",
       "      <td>1</td>\n",
       "      <td>11</td>\n",
       "      <td>0.090909</td>\n",
       "    </tr>\n",
       "    <tr>\n",
       "      <th>4</th>\n",
       "      <td>39strike</td>\n",
       "      <td>#L092VV0Q</td>\n",
       "      <td>3</td>\n",
       "      <td>11</td>\n",
       "      <td>0.272727</td>\n",
       "    </tr>\n",
       "    <tr>\n",
       "      <th>5</th>\n",
       "      <td>5U</td>\n",
       "      <td>#QLYU0V8VY</td>\n",
       "      <td>0</td>\n",
       "      <td>11</td>\n",
       "      <td>0.000000</td>\n",
       "    </tr>\n",
       "  </tbody>\n",
       "</table>\n",
       "</div>"
      ],
      "text/plain": [
       "              Name         Tag  Wars  Total Wars  Joined Wars\n",
       "0       * Rav 94 *   #LPGVYUGR     4          11     0.363636\n",
       "2  *«VARAPRAKA$H»*   #RJLP90CR     1          11     0.090909\n",
       "3    -l B A T A l-  #PG8V8CLVJ     1          11     0.090909\n",
       "4         39strike   #L092VV0Q     3          11     0.272727\n",
       "5               5U  #QLYU0V8VY     0          11     0.000000"
      ]
     },
     "execution_count": 11,
     "metadata": {},
     "output_type": "execute_result"
    }
   ],
   "source": [
    "#All Participation\n",
    "\n",
    "participation = last_played_wars.copy()\n",
    "#get maximum number of wars this season\n",
    "max_participation = pull\n",
    "participation[\"Total Wars\"] = max_participation\n",
    "#find participation of members\n",
    "participation[\"Joined Wars\"] = participation[\"Wars\"]/max_participation\n",
    "#get < 50% participation members and add to slackers\n",
    "slackers = participation.loc[participation['Joined Wars'] < .5].copy()\n",
    "slacking = slackers.to_csv(r\"slackers.csv\", index = True, header = True)\n",
    "slackers.head()"
   ]
  },
  {
   "cell_type": "code",
   "execution_count": 59,
   "metadata": {},
   "outputs": [],
   "source": [
    "#Split Last Played Wars by clan\n",
    "#Sheer Force\n",
    "\n",
    "#Create a copy of Sheer Force only to manipulate\n",
    "sf_lpw = last_played_wars.loc[last_played_wars.Clan == \"Sheer Force\"].copy()\n",
    "#Joined Wars of clan member\n",
    "sf_lpw[\"Joined Wars\"] = sf_lpw[\"Total Wars\"]\n",
    "#get maximum number of wars this season\n",
    "sf_max = sf_lpw[\"Total Wars\"].max()\n",
    "sf_lpw[\"Total Wars\"] = sf_max\n",
    "#find participation of members\n",
    "sf_lpw[\"Participation\"] = sf_lpw[\"Joined Wars\"]/sf_max\n",
    "#get < 50% participation members and add to slackers\n",
    "sheer_force_slackers = sf_lpw.loc[sf_lpw.Participation < .5].copy()\n",
    "sheer_force_slackers.head()\n",
    "sf = sheer_force_slackers.to_csv(r\"sf.csv\", index = True, header = True)"
   ]
  },
  {
   "cell_type": "code",
   "execution_count": 4,
   "metadata": {},
   "outputs": [],
   "source": [
    "#Dark Matter\n",
    "dm_lpw = last_played_wars.loc[last_played_wars.Clan == \"Dark Matter\"].copy()\n",
    "dm_lpw[\"Joined Wars\"] = dm_lpw[\"Total Wars\"]\n",
    "dm_max = dm_lpw[\"Total Wars\"].max()\n",
    "dm_lpw[\"Total Wars\"] = dm_max\n",
    "dm_lpw[\"Participation\"] = dm_lpw[\"Joined Wars\"]/dm_max\n",
    "dark_matter_slackers = dm_lpw.loc[dm_lpw.Participation < .5].copy()\n",
    "dark_matter_slackers.head()\n",
    "dm = dark_matter_slackers.to_csv(r\"dm.csv\", index = True, header = True)"
   ]
  },
  {
   "cell_type": "code",
   "execution_count": 5,
   "metadata": {},
   "outputs": [],
   "source": [
    "#Mini Matter\n",
    "mm_lpw = last_played_wars.loc[last_played_wars.Clan == \"Mini Matter\"].copy()\n",
    "mm_lpw[\"Joined Wars\"] = mm_lpw[\"Total Wars\"]\n",
    "mm_max = mm_lpw[\"Total Wars\"].max()\n",
    "mm_lpw[\"Total Wars\"] = mm_max\n",
    "mm_lpw[\"Participation\"] = mm_lpw[\"Joined Wars\"]/mm_max\n",
    "mini_matter_slackers = mm_lpw.loc[mm_lpw.Participation < .5].copy()\n",
    "mini_matter_slackers.head()\n",
    "mm = mini_matter_slackers.to_csv(r\"mm.csv\", index = True, header = True)"
   ]
  },
  {
   "cell_type": "code",
   "execution_count": 6,
   "metadata": {},
   "outputs": [],
   "source": [
    "#Legendary Monks\n",
    "lm_lpw = last_played_wars.loc[last_played_wars.Clan == \"Legendary Monks\"].copy()\n",
    "lm_lpw[\"Joined Wars\"] = lm_lpw[\"Total Wars\"]\n",
    "lm_max = lm_lpw[\"Total Wars\"].max()\n",
    "lm_lpw[\"Total Wars\"] = lm_max\n",
    "lm_lpw[\"Participation\"] = lm_lpw[\"Joined Wars\"]/lm_max\n",
    "legendary_monks_slackers = lm_lpw.loc[lm_lpw.Participation < .5].copy()\n",
    "legendary_monks_slackers.head()\n",
    "lm = legendary_monks_slackers.to_csv(r\"lm.csv\", index = True, header = True)"
   ]
  },
  {
   "cell_type": "code",
   "execution_count": 7,
   "metadata": {},
   "outputs": [],
   "source": [
    "#Golden Clan\n",
    "kbwf_lpw = last_played_wars.loc[last_played_wars.Clan == \"Golden Clan\"].copy()\n",
    "kbwf_lpw[\"Joined Wars\"] = kbwf_lpw[\"Total Wars\"]\n",
    "kbwf_max = kbwf_lpw[\"Total Wars\"].max()\n",
    "kbwf_lpw[\"Total Wars\"] = kbwf_max\n",
    "kbwf_lpw[\"Participation\"] = kbwf_lpw[\"Joined Wars\"]/kbwf_max\n",
    "killer_black_slackers = kbwf_lpw.loc[kbwf_lpw.Participation < .5].copy()\n",
    "killer_black_slackers.head()\n",
    "kbwf = killer_black_slackers.to_csv(r\"gc.csv\", index = True, header = True)"
   ]
  },
  {
   "cell_type": "code",
   "execution_count": null,
   "metadata": {},
   "outputs": [],
   "source": []
  }
 ],
 "metadata": {
  "interpreter": {
   "hash": "361fd69f2f8dc49184db1980cd15f5ed8d74153e7acf52622b1a7fcda2fa9a08"
  },
  "kernelspec": {
   "display_name": "Python 3.7.10 64-bit ('myenv': conda)",
   "name": "python3"
  },
  "language_info": {
   "codemirror_mode": {
    "name": "ipython",
    "version": 3
   },
   "file_extension": ".py",
   "mimetype": "text/x-python",
   "name": "python",
   "nbconvert_exporter": "python",
   "pygments_lexer": "ipython3",
   "version": "3.9.10"
  },
  "orig_nbformat": 2
 },
 "nbformat": 4,
 "nbformat_minor": 2
}
