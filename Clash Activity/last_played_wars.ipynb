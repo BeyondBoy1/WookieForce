{
 "metadata": {
  "language_info": {
   "codemirror_mode": {
    "name": "ipython",
    "version": 3
   },
   "file_extension": ".py",
   "mimetype": "text/x-python",
   "name": "python",
   "nbconvert_exporter": "python",
   "pygments_lexer": "ipython3",
   "version": "3.9.7"
  },
  "orig_nbformat": 2,
  "kernelspec": {
   "name": "python3",
   "display_name": "Python 3.9.7 64-bit (windows store)"
  },
  "interpreter": {
   "hash": "b7921488130001b881a32639244341f25ddf85b78f8804400f9c57ddc4895e60"
  }
 },
 "nbformat": 4,
 "nbformat_minor": 2,
 "cells": [
  {
   "cell_type": "code",
   "execution_count": 1,
   "source": [
    "import pandas as pd \r\n",
    "import numpy as np \r\n",
    "import datetime as datetime"
   ],
   "outputs": [],
   "metadata": {}
  },
  {
   "cell_type": "code",
   "execution_count": 2,
   "source": [
    "#read in last_played_wars csv\r\n",
    "last_played_wars = pd.read_csv(\"updated_last_played_wars.csv\")\r\n",
    "\r\n",
    "# last_played_wars[\"Participation\"] = last_played_wars[\"Joined Wars\"] / last_played_wars[\"Total Wars\"]\r\n",
    "last_played_wars = last_played_wars[[\"Name\", \"Tag\", \"Last War\", \"Town Hall\", \"Clan\", \"Total Wars\"]]\r\n",
    "last_played_wars.head()\r\n"
   ],
   "outputs": [
    {
     "output_type": "execute_result",
     "data": {
      "text/html": [
       "<div>\n",
       "<style scoped>\n",
       "    .dataframe tbody tr th:only-of-type {\n",
       "        vertical-align: middle;\n",
       "    }\n",
       "\n",
       "    .dataframe tbody tr th {\n",
       "        vertical-align: top;\n",
       "    }\n",
       "\n",
       "    .dataframe thead th {\n",
       "        text-align: right;\n",
       "    }\n",
       "</style>\n",
       "<table border=\"1\" class=\"dataframe\">\n",
       "  <thead>\n",
       "    <tr style=\"text-align: right;\">\n",
       "      <th></th>\n",
       "      <th>Name</th>\n",
       "      <th>Tag</th>\n",
       "      <th>Last War</th>\n",
       "      <th>Town Hall</th>\n",
       "      <th>Clan</th>\n",
       "      <th>Total Wars</th>\n",
       "    </tr>\n",
       "  </thead>\n",
       "  <tbody>\n",
       "    <tr>\n",
       "      <th>0</th>\n",
       "      <td>Darth Rey</td>\n",
       "      <td>#Q2VPR0U0G</td>\n",
       "      <td>8/12/2021</td>\n",
       "      <td>3</td>\n",
       "      <td>SN JAIN</td>\n",
       "      <td>2</td>\n",
       "    </tr>\n",
       "    <tr>\n",
       "      <th>1</th>\n",
       "      <td>寄付者Karuko</td>\n",
       "      <td>#LV9RCGYCY</td>\n",
       "      <td>8/12/2021</td>\n",
       "      <td>7</td>\n",
       "      <td>SN JAIN</td>\n",
       "      <td>5</td>\n",
       "    </tr>\n",
       "    <tr>\n",
       "      <th>2</th>\n",
       "      <td>Ntfb_Slay</td>\n",
       "      <td>#Q2C9R2LY9</td>\n",
       "      <td>8/12/2021</td>\n",
       "      <td>6</td>\n",
       "      <td>SN JAIN</td>\n",
       "      <td>7</td>\n",
       "    </tr>\n",
       "    <tr>\n",
       "      <th>3</th>\n",
       "      <td>texanji</td>\n",
       "      <td>#QP820PV88</td>\n",
       "      <td>8/12/2021</td>\n",
       "      <td>4</td>\n",
       "      <td>SN JAIN</td>\n",
       "      <td>4</td>\n",
       "    </tr>\n",
       "    <tr>\n",
       "      <th>4</th>\n",
       "      <td>Globslashes</td>\n",
       "      <td>#QPGJUL0PC</td>\n",
       "      <td>8/12/2021</td>\n",
       "      <td>5</td>\n",
       "      <td>SN JAIN</td>\n",
       "      <td>6</td>\n",
       "    </tr>\n",
       "  </tbody>\n",
       "</table>\n",
       "</div>"
      ],
      "text/plain": [
       "          Name         Tag   Last War  Town Hall     Clan  Total Wars\n",
       "0    Darth Rey  #Q2VPR0U0G  8/12/2021          3  SN JAIN           2\n",
       "1    寄付者Karuko  #LV9RCGYCY  8/12/2021          7  SN JAIN           5\n",
       "2    Ntfb_Slay  #Q2C9R2LY9  8/12/2021          6  SN JAIN           7\n",
       "3      texanji  #QP820PV88  8/12/2021          4  SN JAIN           4\n",
       "4  Globslashes  #QPGJUL0PC  8/12/2021          5  SN JAIN           6"
      ]
     },
     "metadata": {},
     "execution_count": 2
    }
   ],
   "metadata": {}
  },
  {
   "cell_type": "code",
   "execution_count": 12,
   "source": [
    "#Split Last Played Wars by clan\r\n",
    "#Sheer Force\r\n",
    "\r\n",
    "#Create a copy of Sheer Force only to manipulate\r\n",
    "sf_lpw = last_played_wars.loc[last_played_wars.Clan == \"Sheer Force\"].copy()\r\n",
    "#Joined Wars of clan member\r\n",
    "sf_lpw[\"Joined Wars\"] = sf_lpw[\"Total Wars\"]\r\n",
    "#get maximum number of wars this season\r\n",
    "sf_max = sf_lpw[\"Total Wars\"].max()\r\n",
    "sf_lpw[\"Total Wars\"] = sf_max\r\n",
    "#find participation of members\r\n",
    "sf_lpw[\"Participation\"] = sf_lpw[\"Joined Wars\"]/sf_max\r\n",
    "#get < 50% participation members and add to slackers\r\n",
    "sheer_force_slackers = sf_lpw.loc[sf_lpw.Participation < .5].copy()\r\n",
    "sheer_force_slackers.head()\r\n",
    "sf = sheer_force_slackers.to_csv(r\"sf.csv\", index = True, header = True)"
   ],
   "outputs": [],
   "metadata": {}
  },
  {
   "cell_type": "code",
   "execution_count": 13,
   "source": [
    "#Dark Matter\r\n",
    "dm_lpw = last_played_wars.loc[last_played_wars.Clan == \"Dark Matter\"].copy()\r\n",
    "dm_lpw[\"Joined Wars\"] = dm_lpw[\"Total Wars\"]\r\n",
    "dm_max = dm_lpw[\"Total Wars\"].max()\r\n",
    "dm_lpw[\"Total Wars\"] = dm_max\r\n",
    "dm_lpw[\"Participation\"] = dm_lpw[\"Joined Wars\"]/dm_max\r\n",
    "dark_matter_slackers = dm_lpw.loc[dm_lpw.Participation < .5].copy()\r\n",
    "dark_matter_slackers.head()\r\n",
    "dm = dark_matter_slackers.to_csv(r\"dm.csv\", index = True, header = True)"
   ],
   "outputs": [],
   "metadata": {}
  },
  {
   "cell_type": "code",
   "execution_count": 14,
   "source": [
    "#Mini Matter\r\n",
    "mm_lpw = last_played_wars.loc[last_played_wars.Clan == \"Mini Matter\"].copy()\r\n",
    "mm_lpw[\"Joined Wars\"] = mm_lpw[\"Total Wars\"]\r\n",
    "mm_max = mm_lpw[\"Total Wars\"].max()\r\n",
    "mm_lpw[\"Total Wars\"] = mm_max\r\n",
    "mm_lpw[\"Participation\"] = mm_lpw[\"Joined Wars\"]/mm_max\r\n",
    "mini_matter_slackers = mm_lpw.loc[mm_lpw.Participation < .5].copy()\r\n",
    "mini_matter_slackers.head()\r\n",
    "mm = mini_matter_slackers.to_csv(r\"mm.csv\", index = True, header = True)"
   ],
   "outputs": [],
   "metadata": {}
  },
  {
   "cell_type": "code",
   "execution_count": 15,
   "source": [
    "#Legendary Monks\r\n",
    "lm_lpw = last_played_wars.loc[last_played_wars.Clan == \"Legendary Monks\"].copy()\r\n",
    "lm_lpw[\"Joined Wars\"] = lm_lpw[\"Total Wars\"]\r\n",
    "lm_max = lm_lpw[\"Total Wars\"].max()\r\n",
    "lm_lpw[\"Total Wars\"] = lm_max\r\n",
    "lm_lpw[\"Participation\"] = lm_lpw[\"Joined Wars\"]/lm_max\r\n",
    "legendary_monks_slackers = lm_lpw.loc[lm_lpw.Participation < .5].copy()\r\n",
    "legendary_monks_slackers.head()\r\n",
    "lm = legendary_monks_slackers.to_csv(r\"lm.csv\", index = True, header = True)"
   ],
   "outputs": [],
   "metadata": {}
  },
  {
   "cell_type": "code",
   "execution_count": 16,
   "source": [
    "#Golden Clan\r\n",
    "kbwf_lpw = last_played_wars.loc[last_played_wars.Clan == \"Golden Clan\"].copy()\r\n",
    "kbwf_lpw[\"Joined Wars\"] = kbwf_lpw[\"Total Wars\"]\r\n",
    "kbwf_max = kbwf_lpw[\"Total Wars\"].max()\r\n",
    "kbwf_lpw[\"Total Wars\"] = kbwf_max\r\n",
    "kbwf_lpw[\"Participation\"] = kbwf_lpw[\"Joined Wars\"]/kbwf_max\r\n",
    "killer_black_slackers = kbwf_lpw.loc[kbwf_lpw.Participation < .5].copy()\r\n",
    "killer_black_slackers.head()\r\n",
    "kbwf = killer_black_slackers.to_csv(r\"gc.csv\", index = True, header = True)"
   ],
   "outputs": [],
   "metadata": {}
  },
  {
   "cell_type": "code",
   "execution_count": null,
   "source": [],
   "outputs": [],
   "metadata": {}
  }
 ]
}